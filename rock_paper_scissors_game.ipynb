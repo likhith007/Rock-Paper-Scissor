{
 "cells": [
  {
   "cell_type": "code",
   "execution_count": 1,
   "id": "a17f8306",
   "metadata": {},
   "outputs": [],
   "source": [
    "def evaluate_round_winner(person1,person2):\n",
    "    if person1==person2:\n",
    "        return 0\n",
    "    elif person1 == \"rock\" and person2 == \"paper\":\n",
    "        return 2\n",
    "    elif person1 == \"rock\" and person2 == \"scissor\":\n",
    "        return 1\n",
    "    elif person1 == \"paper\" and person2 == \"rock\":\n",
    "        return 1\n",
    "    elif person1 == \"paper\" and person2 == \"scissor\":\n",
    "        return 2\n",
    "    elif person1 == \"scissor\" and person2 == \"paper\":\n",
    "        return 1\n",
    "    elif person1 == \"scissor\" and person2 == \"rock\":\n",
    "        return 2    "
   ]
  },
  {
   "cell_type": "code",
   "execution_count": 2,
   "id": "0beb03ec",
   "metadata": {},
   "outputs": [
    {
     "data": {
      "text/plain": [
       "2"
      ]
     },
     "execution_count": 2,
     "metadata": {},
     "output_type": "execute_result"
    }
   ],
   "source": [
    "evaluate_round_winner(\"rock\",\"paper\")"
   ]
  },
  {
   "cell_type": "code",
   "execution_count": 14,
   "id": "dd90d52d",
   "metadata": {},
   "outputs": [
    {
     "name": "stdout",
     "output_type": "stream",
     "text": [
      "Welcome to ROCK - PAPER - SCISSOR GAME\n",
      "\n",
      "Instructions\n",
      "\n",
      "1) This game will have 7 rounds.\n",
      "\n",
      "2) In Each round there may be a winner or it may tie\n",
      "\n",
      "We are starting the game!!! Have Fun!!!\n",
      "\n",
      "..............Enter your choice...............\n",
      "\n",
      "option 1 for rock ... option 2 for paper and option 3 for scissor\n",
      "\n",
      "1\n",
      "Computer is the winner of this round.\n",
      "\n",
      "..............Enter your choice...............\n",
      "\n",
      "option 1 for rock ... option 2 for paper and option 3 for scissor\n",
      "\n",
      "1\n",
      "Its a tie!!\n",
      "\n",
      "..............Enter your choice...............\n",
      "\n",
      "option 1 for rock ... option 2 for paper and option 3 for scissor\n",
      "\n",
      "1\n",
      "Its a tie!!\n",
      "\n",
      "..............Enter your choice...............\n",
      "\n",
      "option 1 for rock ... option 2 for paper and option 3 for scissor\n",
      "\n",
      "1\n",
      "Computer is the winner of this round.\n",
      "\n",
      "..............Enter your choice...............\n",
      "\n",
      "option 1 for rock ... option 2 for paper and option 3 for scissor\n",
      "\n",
      "1\n",
      "You are the winner of this round.\n",
      "\n",
      "..............Enter your choice...............\n",
      "\n",
      "option 1 for rock ... option 2 for paper and option 3 for scissor\n",
      "\n",
      "1\n",
      "You are the winner of this round.\n",
      "\n",
      "..............Enter your choice...............\n",
      "\n",
      "option 1 for rock ... option 2 for paper and option 3 for scissor\n",
      "\n",
      "1\n",
      "You are the winner of this round.\n",
      "\n",
      "................Game completed.........\n",
      "\n",
      "Your game score:  3\n",
      "\n",
      "\n",
      "Computer score:  2\n",
      "\n",
      "\n",
      "................Congrats!! Your are the winner...........\n",
      "\n",
      "...GAME OVER...GAME OVER...GAME OVER...GAME OVER...GAME OVER...GAME OVER...GAME OVER...\n",
      "\n"
     ]
    }
   ],
   "source": [
    "import random\n",
    "\n",
    "print(\"Welcome to ROCK - PAPER - SCISSOR GAME\\n\")\n",
    "print(\"Instructions\\n\")\n",
    "print(\"1) This game will have 7 rounds.\\n\")\n",
    "print(\"2) In Each round there may be a winner or it may tie\\n\")\n",
    "print(\"We are starting the game!!! Have Fun!!!\\n\")\n",
    "\n",
    "rounds=1\n",
    "p1 = 0\n",
    "p2 = 0\n",
    "\n",
    "while(rounds<=7):\n",
    "    startover: print(\"..............Enter your choice...............\\n\")\n",
    "    print(\"option 1 for rock ... option 2 for paper and option 3 for scissor\\n\")\n",
    "    userInputVal = int(input())\n",
    "    options = [1,2,3]\n",
    "    optionsDict = {1:\"rock\",2:\"paper\",3:\"scissor\"}\n",
    "    if userInputVal not in options:\n",
    "        print(\"Please select the right option\\n\")\n",
    "        continue\n",
    "    else:\n",
    "        rounds = rounds+1\n",
    "        val = evaluate_round_winner(optionsDict[userInputVal],optionsDict[random.choice(options)])\n",
    "        if(val == 1):\n",
    "            print(\"You are the winner of this round.\\n\")\n",
    "            p1 = p1+1\n",
    "        elif(val == 2):\n",
    "            print(\"Computer is the winner of this round.\\n\")\n",
    "            p2 = p2+1\n",
    "        else:\n",
    "            print(\"Its a tie!!\\n\")\n",
    "print(\"................Game completed.........\\n\")\n",
    "print(\"Your game score: \",p1)\n",
    "print(\"\\n\")\n",
    "print(\"Computer score: \",p2)\n",
    "print(\"\\n\")\n",
    "\n",
    "if(p1==p2):\n",
    "    print(\"................Its a tie!!!..............\\n\")\n",
    "elif(p1>p2):\n",
    "    print(\"................Congrats!! Your are the winner...........\\n\")\n",
    "else:\n",
    "    print(\"................Sorry!!   You lost..please try again.............\\n\")\n",
    "\n",
    "print(\"...GAME OVER...GAME OVER...GAME OVER...GAME OVER...GAME OVER...GAME OVER...GAME OVER...\\n\")    "
   ]
  },
  {
   "cell_type": "markdown",
   "id": "39719146",
   "metadata": {},
   "source": [
    "# "
   ]
  }
 ],
 "metadata": {
  "kernelspec": {
   "display_name": "Python 3",
   "language": "python",
   "name": "python3"
  },
  "language_info": {
   "codemirror_mode": {
    "name": "ipython",
    "version": 3
   },
   "file_extension": ".py",
   "mimetype": "text/x-python",
   "name": "python",
   "nbconvert_exporter": "python",
   "pygments_lexer": "ipython3",
   "version": "3.8.8"
  }
 },
 "nbformat": 4,
 "nbformat_minor": 5
}
